{
  "nbformat": 4,
  "nbformat_minor": 0,
  "metadata": {
    "colab": {
      "name": "api_train_augment.ipynb",
      "provenance": [],
      "collapsed_sections": []
    },
    "kernelspec": {
      "name": "python3",
      "display_name": "Python 3"
    },
    "language_info": {
      "name": "python"
    }
  },
  "cells": [
    {
      "cell_type": "markdown",
      "metadata": {
        "id": "iMik0qRQrzpQ"
      },
      "source": [
        "## Training with Adversarial AutoAugment\n",
        "\n",
        " \n",
        "Trains network using Adversarial AutoAugment as detailed in this [research paper](https://arxiv.org/pdf/1912.11188.pdf) \n"
      ]
    },
    {
      "cell_type": "code",
      "metadata": {
        "id": "3Rkl8n2xsBRf"
      },
      "source": [
        "untangle_ai.train_augment(model,optimizer,scheduler,train_dataset,valid_dataset,args)"
      ],
      "execution_count": null,
      "outputs": []
    },
    {
      "cell_type": "markdown",
      "metadata": {
        "id": "bvujXiGZsIJp"
      },
      "source": [
        "**Parameters**\n",
        "*   model: pytorch model object\n",
        "*   optimizer: model's optimizer. e.g. SGD\n",
        "*   scheduler: model's scheduler. e.g. CosineAnnealingLR\n",
        "*   train_dataset: Pytorch dataset object\n",
        "*   valid_dataset: Pytorch dataset object\n",
        "*   args: data specific params (ref to TrainAugmentArgs class)\n",
        "\n",
        "**Returns**\n",
        "*   Trained model object\n"
      ]
    },
    {
      "cell_type": "markdown",
      "metadata": {
        "id": "ZKil3smLtuVV"
      },
      "source": [
        "## TrainAugmentArgs"
      ]
    },
    {
      "cell_type": "code",
      "metadata": {
        "id": "dGZ9KGcRt1p3"
      },
      "source": [
        "class TrainAugmentArgs:\n",
        "    \"\"\"\n",
        "    A new directory 'mname' is created with sub-directory named train_augment/'experiment_ID' \n",
        "    \"\"\"\n",
        "    mname = 'test_net'\n",
        "    num_class = 10\n",
        "    batch_size = 128\n",
        "    epoch = 600\n",
        "    gpu_count = 8\n",
        "    experiment_ID = 1\n"
      ],
      "execution_count": null,
      "outputs": []
    }
  ]
}